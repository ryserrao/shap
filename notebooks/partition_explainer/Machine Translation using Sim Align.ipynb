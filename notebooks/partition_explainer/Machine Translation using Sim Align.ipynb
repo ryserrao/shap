{
 "cells": [
  {
   "cell_type": "code",
   "execution_count": 1,
   "metadata": {},
   "outputs": [],
   "source": [
    "from simalign import SentenceAligner\n",
    "import matplotlib.pyplot as plt\n",
    "import numpy as np\n",
    "from typing import List, Text, Tuple\n",
    "import string"
   ]
  },
  {
   "cell_type": "code",
   "execution_count": 2,
   "metadata": {},
   "outputs": [
    {
     "data": {
      "text/plain": [
       "'!\"#$%&\\'()*+,-./:;<=>?@[\\\\]^_`{|}~'"
      ]
     },
     "execution_count": 2,
     "metadata": {},
     "output_type": "execute_result"
    }
   ],
   "source": [
    "string.punctuation"
   ]
  },
  {
   "cell_type": "code",
   "execution_count": 3,
   "metadata": {},
   "outputs": [
    {
     "name": "stderr",
     "output_type": "stream",
     "text": [
      "2020-10-20 14:37:33,342 - simalign.simalign - INFO - Initialized the EmbeddingLoader with model: bert-base-multilingual-cased\n",
      "INFO - Initialized the EmbeddingLoader with model: bert-base-multilingual-cased\n"
     ]
    }
   ],
   "source": [
    "myaligner = SentenceAligner(model=\"bert\", token_type=\"word\", matching_methods=\"mai\", layer = 12, return_dict=True)"
   ]
  },
  {
   "cell_type": "code",
   "execution_count": 4,
   "metadata": {},
   "outputs": [],
   "source": [
    "def clean_text(words):\n",
    "    table = str.maketrans('', '', string.punctuation)\n",
    "    stripped = [w.translate(table) for w in words]\n",
    "    return stripped"
   ]
  },
  {
   "cell_type": "code",
   "execution_count": 5,
   "metadata": {},
   "outputs": [
    {
     "name": "stdout",
     "output_type": "stream",
     "text": [
      "['En', 'este', 'cuadro', 'hay', 'cuatro', 'personas', 'mi', 'padre', 'mi', 'madre', 'mi', 'hermano', 'y', 'mi', 'hermana']\n"
     ]
    }
   ],
   "source": [
    "print(clean_text(\"En este cuadro, hay cuatro personas: mi padre, mi madre, mi hermano y mi hermana.\".split()))"
   ]
  },
  {
   "cell_type": "code",
   "execution_count": 6,
   "metadata": {},
   "outputs": [
    {
     "name": "stdout",
     "output_type": "stream",
     "text": [
      "['En', 'este', 'cuadro', 'hay', 'cuatro', 'personas', 'mi', 'padre', 'mi', 'madre', 'mi', 'hermano', 'y', 'mi', 'hermana']\n"
     ]
    }
   ],
   "source": [
    "print(clean_text(\"En este cuadro, hay cuatro personas: mi padre, mi madre, mi hermano y mi hermana.\".split()))"
   ]
  },
  {
   "cell_type": "code",
   "execution_count": 7,
   "metadata": {},
   "outputs": [],
   "source": [
    "def reconstruct_alignment_matrix(matchings: Text, n: int, m: int):\n",
    "    alignment_matrix = np.zeros((n, m))\n",
    "    for i,j in matchings:\n",
    "        alignment_matrix[i, j] = 1\n",
    "    return alignment_matrix"
   ]
  },
  {
   "cell_type": "code",
   "execution_count": 8,
   "metadata": {},
   "outputs": [],
   "source": [
    "def print_matchings(matchings,src_sentence,trg_sentence):\n",
    "    if isinstance(src_sentence,str):\n",
    "        src_sentence = src_sentence.split()\n",
    "    if isinstance(trg_sentence,str):\n",
    "        trg_sentence = trg_sentence.split()\n",
    "    for i,j in matchings:\n",
    "        print(f'{src_sentence[i]}->{trg_sentence[j]}')"
   ]
  },
  {
   "cell_type": "code",
   "execution_count": 23,
   "metadata": {},
   "outputs": [],
   "source": [
    "def get_sim_align_scores(src_sentence,trg_sentence):\n",
    "    alignment_dict = myaligner.get_word_aligns(src_sentence, trg_sentence)\n",
    "    #print(alignment_dict[\"alignments\"][\"mwmf\"])\n",
    "    print_matchings(alignment_dict[\"alignments\"][\"itermax\"],src_sentence, trg_sentence)\n",
    "    n,m=alignment_dict[\"similarity_matrix\"].shape\n",
    "    alignment_matrix = reconstruct_alignment_matrix(alignment_dict[\"alignments\"][\"itermax\"],n,m)\n",
    "    alignment_scores = alignment_dict[\"similarity_matrix\"]*alignment_matrix\n",
    "    axis_aligned_alignment_score = alignment_scores.sum(0)\n",
    "    no_of_matchings = alignment_scores.astype(bool).sum(0)\n",
    "    sim_align_scores = [axis_aligned_alignment_score[i]/no_of_matchings[i] if no_of_matchings[i]>0 else 0 for i in range(len(axis_aligned_alignment_score))]\n",
    "    return sim_align_scores    \n"
   ]
  },
  {
   "cell_type": "code",
   "execution_count": 20,
   "metadata": {},
   "outputs": [
    {
     "name": "stderr",
     "output_type": "stream",
     "text": [
      "c:\\users\\ryserrao\\microsoft_work\\aiplatform_shap\\forked_transformers\\transformers\\src\\transformers\\tokenization_utils.py:540: FutureWarning: `is_pretokenized` is deprecated and will be removed in a future version, use `is_split_into_words` instead.\n",
      "  warnings.warn(\n"
     ]
    },
    {
     "ename": "KeyError",
     "evalue": "'iter'",
     "output_type": "error",
     "traceback": [
      "\u001b[1;31m---------------------------------------------------------------------------\u001b[0m",
      "\u001b[1;31mKeyError\u001b[0m                                  Traceback (most recent call last)",
      "\u001b[1;32m<ipython-input-20-013a9138e5e9>\u001b[0m in \u001b[0;36m<module>\u001b[1;34m\u001b[0m\n\u001b[0;32m      1\u001b[0m \u001b[0msrc_sentence\u001b[0m \u001b[1;33m=\u001b[0m \u001b[1;34m\"Football is a sport I love playing\"\u001b[0m\u001b[1;33m\u001b[0m\u001b[1;33m\u001b[0m\u001b[0m\n\u001b[0;32m      2\u001b[0m \u001b[0mtrg_sentence\u001b[0m \u001b[1;33m=\u001b[0m \u001b[1;34m\"I love to play football\"\u001b[0m\u001b[1;33m\u001b[0m\u001b[1;33m\u001b[0m\u001b[0m\n\u001b[1;32m----> 3\u001b[1;33m \u001b[0mget_sim_align_scores\u001b[0m\u001b[1;33m(\u001b[0m\u001b[0msrc_sentence\u001b[0m\u001b[1;33m,\u001b[0m\u001b[0mtrg_sentence\u001b[0m\u001b[1;33m)\u001b[0m\u001b[1;33m\u001b[0m\u001b[1;33m\u001b[0m\u001b[0m\n\u001b[0m",
      "\u001b[1;32m<ipython-input-19-d5d6a4801249>\u001b[0m in \u001b[0;36mget_sim_align_scores\u001b[1;34m(src_sentence, trg_sentence)\u001b[0m\n\u001b[0;32m      2\u001b[0m     \u001b[0malignment_dict\u001b[0m \u001b[1;33m=\u001b[0m \u001b[0mmyaligner\u001b[0m\u001b[1;33m.\u001b[0m\u001b[0mget_word_aligns\u001b[0m\u001b[1;33m(\u001b[0m\u001b[0msrc_sentence\u001b[0m\u001b[1;33m,\u001b[0m \u001b[0mtrg_sentence\u001b[0m\u001b[1;33m)\u001b[0m\u001b[1;33m\u001b[0m\u001b[1;33m\u001b[0m\u001b[0m\n\u001b[0;32m      3\u001b[0m     \u001b[1;31m#print(alignment_dict[\"alignments\"][\"mwmf\"])\u001b[0m\u001b[1;33m\u001b[0m\u001b[1;33m\u001b[0m\u001b[1;33m\u001b[0m\u001b[0m\n\u001b[1;32m----> 4\u001b[1;33m     \u001b[0mprint_matchings\u001b[0m\u001b[1;33m(\u001b[0m\u001b[0malignment_dict\u001b[0m\u001b[1;33m[\u001b[0m\u001b[1;34m\"alignments\"\u001b[0m\u001b[1;33m]\u001b[0m\u001b[1;33m[\u001b[0m\u001b[1;34m\"iter\"\u001b[0m\u001b[1;33m]\u001b[0m\u001b[1;33m,\u001b[0m\u001b[0msrc_sentence\u001b[0m\u001b[1;33m,\u001b[0m \u001b[0mtrg_sentence\u001b[0m\u001b[1;33m)\u001b[0m\u001b[1;33m\u001b[0m\u001b[1;33m\u001b[0m\u001b[0m\n\u001b[0m\u001b[0;32m      5\u001b[0m     \u001b[0mn\u001b[0m\u001b[1;33m,\u001b[0m\u001b[0mm\u001b[0m\u001b[1;33m=\u001b[0m\u001b[0malignment_dict\u001b[0m\u001b[1;33m[\u001b[0m\u001b[1;34m\"similarity_matrix\"\u001b[0m\u001b[1;33m]\u001b[0m\u001b[1;33m.\u001b[0m\u001b[0mshape\u001b[0m\u001b[1;33m\u001b[0m\u001b[1;33m\u001b[0m\u001b[0m\n\u001b[0;32m      6\u001b[0m     \u001b[0malignment_matrix\u001b[0m \u001b[1;33m=\u001b[0m \u001b[0mreconstruct_alignment_matrix\u001b[0m\u001b[1;33m(\u001b[0m\u001b[0malignment_dict\u001b[0m\u001b[1;33m[\u001b[0m\u001b[1;34m\"alignments\"\u001b[0m\u001b[1;33m]\u001b[0m\u001b[1;33m[\u001b[0m\u001b[1;34m\"iter\"\u001b[0m\u001b[1;33m]\u001b[0m\u001b[1;33m,\u001b[0m\u001b[0mn\u001b[0m\u001b[1;33m,\u001b[0m\u001b[0mm\u001b[0m\u001b[1;33m)\u001b[0m\u001b[1;33m\u001b[0m\u001b[1;33m\u001b[0m\u001b[0m\n",
      "\u001b[1;31mKeyError\u001b[0m: 'iter'"
     ]
    }
   ],
   "source": [
    "src_sentence = \"Football is a sport I love playing\"\n",
    "trg_sentence = \"I love to play football\"\n",
    "get_sim_align_scores(src_sentence,trg_sentence)"
   ]
  },
  {
   "cell_type": "code",
   "execution_count": 16,
   "metadata": {},
   "outputs": [
    {
     "name": "stdout",
     "output_type": "stream",
     "text": [
      "the->the\n",
      "needy->poor\n",
      "will->has\n",
      "reward->to\n",
      "you->money\n",
      "[0, 0.7328535318374634, 0.761725902557373, 0.8023812174797058, 0.7176111936569214, 0.7320346236228943, 0, 0]\n"
     ]
    },
    {
     "name": "stderr",
     "output_type": "stream",
     "text": [
      "c:\\users\\ryserrao\\microsoft_work\\aiplatform_shap\\forked_transformers\\transformers\\src\\transformers\\tokenization_utils.py:540: FutureWarning: `is_pretokenized` is deprecated and will be removed in a future version, use `is_split_into_words` instead.\n",
      "  warnings.warn(\n"
     ]
    }
   ],
   "source": [
    "src_sentence = clean_text(\"If you help the needy, God will reward you.\".split())\n",
    "trg_sentence = clean_text(\"Giving money to the poor has good consequences.\".split())\n",
    "sim_align_scores = get_sim_align_scores(src_sentence,trg_sentence)\n",
    "print(sim_align_scores)"
   ]
  },
  {
   "cell_type": "code",
   "execution_count": 24,
   "metadata": {},
   "outputs": [
    {
     "name": "stdout",
     "output_type": "stream",
     "text": [
      "is->I\n",
      "identical->love\n",
      "to->to\n",
      "multilingual->football\n",
      "BERT->play\n",
      "[0.6834468841552734, 0.6979613304138184, 0.7619485259056091, 0.667186975479126, 0.6814118027687073]\n"
     ]
    },
    {
     "name": "stderr",
     "output_type": "stream",
     "text": [
      "c:\\users\\ryserrao\\microsoft_work\\aiplatform_shap\\forked_transformers\\transformers\\src\\transformers\\tokenization_utils.py:540: FutureWarning: `is_pretokenized` is deprecated and will be removed in a future version, use `is_split_into_words` instead.\n",
      "  warnings.warn(\n"
     ]
    }
   ],
   "source": [
    "src_sentence = \"Language coverage is identical to multilingual BERT\"\n",
    "trg_sentence = \"I love to play football\"\n",
    "sim_align_scores = get_sim_align_scores(src_sentence,trg_sentence)\n",
    "print(sim_align_scores)"
   ]
  },
  {
   "cell_type": "code",
   "execution_count": null,
   "metadata": {},
   "outputs": [],
   "source": []
  },
  {
   "cell_type": "code",
   "execution_count": 49,
   "metadata": {},
   "outputs": [
    {
     "name": "stdout",
     "output_type": "stream",
     "text": [
      "No. of layers: 13\n",
      "no->este\n",
      "no->En\n",
      "no->hay\n",
      "no->cuadro\n",
      "no->personas\n",
      "no->mi\n",
      "no->padre\n",
      "no->mi\n",
      "no->madre\n",
      "no->hermano\n",
      "no->cuatro\n",
      "no->mi\n",
      "no->mi\n",
      "no->y\n",
      "no->hermana\n",
      "[0.6392083764076233, 0.6480591297149658, 0.6561990976333618, 0.6487113237380981, 0.6359125375747681, 0.6601014137268066, 0.6517370343208313, 0.668590247631073, 0.6579039692878723, 0.6772670745849609, 0.6628153920173645, 0.677024245262146, 0.6642996072769165, 0.6669628024101257, 0.6628788113594055]\n"
     ]
    }
   ],
   "source": [
    "src_sentence = clean_text(\"No no no no no no no no no no no no no no no no no no no no\".split())\n",
    "trg_sentence = clean_text(\"En este cuadro hay cuatro personas mi padre mi madre mi hermano y mi hermana\".split())\n",
    "sim_align_scores = get_sim_align_scores(src_sentence,trg_sentence)\n",
    "print(sim_align_scores)"
   ]
  },
  {
   "cell_type": "code",
   "execution_count": 29,
   "metadata": {},
   "outputs": [
    {
     "name": "stdout",
     "output_type": "stream",
     "text": [
      "No. of layers: 13\n",
      ",->,\n",
      ",->,\n",
      ".->:\n",
      "[0, 0, 0, 0, 0, 0, 0, 0.7086302042007446, 0, 0, 0.7581214308738708, 0, 0, 0.7559026479721069, 0, 0, 0, 0, 0]\n"
     ]
    }
   ],
   "source": [
    "src_sentence = \"No , no , no , no , no , no , no , no , no , no , no , no , no , no , no , no , no , no , no , no .\"\n",
    "trg_sentence = \"En este cuadro , hay cuatro personas : mi padre , mi madre , mi hermano y mi hermana.\"\n",
    "sim_align_scores = get_sim_align_scores(src_sentence,trg_sentence)\n",
    "print(sim_align_scores)"
   ]
  },
  {
   "cell_type": "code",
   "execution_count": 9,
   "metadata": {},
   "outputs": [
    {
     "name": "stdout",
     "output_type": "stream",
     "text": [
      "No. of layers: 13\n"
     ]
    }
   ],
   "source": [
    "alignment_dict = myaligner.get_word_aligns(src_sentence, trg_sentence)"
   ]
  },
  {
   "cell_type": "code",
   "execution_count": 10,
   "metadata": {},
   "outputs": [
    {
     "data": {
      "text/plain": [
       "{'alignments': {'mwmf': [(0, 0),\n",
       "   (1, 3),\n",
       "   (2, 2),\n",
       "   (3, 7),\n",
       "   (4, 6),\n",
       "   (5, 8),\n",
       "   (6, 9),\n",
       "   (9, 11),\n",
       "   (12, 5),\n",
       "   (13, 4),\n",
       "   (15, 10),\n",
       "   (16, 1),\n",
       "   (17, 13),\n",
       "   (18, 12),\n",
       "   (19, 14)],\n",
       "  'inter': [(2, 7), (19, 5)],\n",
       "  'itermax': [(2, 7), (4, 9), (19, 5)]},\n",
       " 'similarity_matrix': array([[0.64001304, 0.64697236, 0.696739  , 0.65915066, 0.6650571 ,\n",
       "         0.700886  , 0.67814094, 0.72961426, 0.67755795, 0.7241428 ,\n",
       "         0.67745215, 0.6591057 , 0.7131208 , 0.6676848 , 0.6699865 ],\n",
       "        [0.6352058 , 0.65165544, 0.693285  , 0.657238  , 0.6663618 ,\n",
       "         0.69544566, 0.67926884, 0.73262787, 0.68343484, 0.73000735,\n",
       "         0.6832223 , 0.66337407, 0.7130358 , 0.6712997 , 0.66694117],\n",
       "        [0.6343672 , 0.6510731 , 0.69280434, 0.65658873, 0.6679187 ,\n",
       "         0.6952791 , 0.67987597, 0.73329306, 0.6854879 , 0.73163176,\n",
       "         0.68466413, 0.66424155, 0.7119039 , 0.67251307, 0.66762334],\n",
       "        [0.6338898 , 0.6500083 , 0.69205016, 0.65571356, 0.6681889 ,\n",
       "         0.69561726, 0.67995626, 0.73328173, 0.6856427 , 0.7318929 ,\n",
       "         0.68441576, 0.6633071 , 0.7115652 , 0.6719276 , 0.66750467],\n",
       "        [0.63371265, 0.6498698 , 0.6914988 , 0.65503293, 0.6680433 ,\n",
       "         0.6958721 , 0.6796854 , 0.7327118 , 0.6854572 , 0.73193055,\n",
       "         0.6842058 , 0.6630497 , 0.71174073, 0.67127895, 0.66754186],\n",
       "        [0.633523  , 0.6493579 , 0.6899175 , 0.6533586 , 0.66643137,\n",
       "         0.6944561 , 0.6785399 , 0.7309282 , 0.6847055 , 0.7311068 ,\n",
       "         0.68366563, 0.6623508 , 0.71109796, 0.6701906 , 0.66668445],\n",
       "        [0.6331693 , 0.6496689 , 0.68925893, 0.6526303 , 0.66596675,\n",
       "         0.69343096, 0.67755497, 0.7295246 , 0.68423045, 0.7306627 ,\n",
       "         0.6838312 , 0.66257757, 0.71138763, 0.67013425, 0.66651595],\n",
       "        [0.6332544 , 0.6506161 , 0.68948495, 0.6528394 , 0.6659721 ,\n",
       "         0.6932593 , 0.67730665, 0.72888124, 0.6840899 , 0.7305794 ,\n",
       "         0.6844994 , 0.66373235, 0.71211994, 0.67092437, 0.66715336],\n",
       "        [0.63310313, 0.6512397 , 0.6901827 , 0.6530416 , 0.6659939 ,\n",
       "         0.6935265 , 0.6772562 , 0.7287256 , 0.6837673 , 0.7304925 ,\n",
       "         0.68461996, 0.66449463, 0.71249056, 0.67139333, 0.6678549 ],\n",
       "        [0.6328016 , 0.65140295, 0.6906946 , 0.6532727 , 0.6663654 ,\n",
       "         0.6938319 , 0.6770627 , 0.728686  , 0.6833718 , 0.7302034 ,\n",
       "         0.6842024 , 0.664569  , 0.71227217, 0.6714866 , 0.66834104],\n",
       "        [0.63214946, 0.6510096 , 0.6906618 , 0.65314853, 0.6666799 ,\n",
       "         0.69421184, 0.67698264, 0.72832733, 0.6830874 , 0.7295486 ,\n",
       "         0.6835699 , 0.66386884, 0.7115779 , 0.67130226, 0.66871905],\n",
       "        [0.6313649 , 0.6501024 , 0.6902585 , 0.65242374, 0.6670709 ,\n",
       "         0.6944268 , 0.67699105, 0.72807914, 0.6828314 , 0.72897303,\n",
       "         0.6827999 , 0.6628028 , 0.71058524, 0.67067045, 0.6686313 ],\n",
       "        [0.6311822 , 0.6500569 , 0.6901819 , 0.65194553, 0.6676675 ,\n",
       "         0.69499093, 0.6774929 , 0.7282388 , 0.68328387, 0.7292404 ,\n",
       "         0.68315136, 0.66279435, 0.7107627 , 0.6708281 , 0.66875005],\n",
       "        [0.6311555 , 0.65038097, 0.689824  , 0.6515242 , 0.6676609 ,\n",
       "         0.69468915, 0.6776626 , 0.72801197, 0.6836738 , 0.7294998 ,\n",
       "         0.68376184, 0.663098  , 0.7111347 , 0.67103916, 0.66837233],\n",
       "        [0.6311153 , 0.6508899 , 0.689672  , 0.6513375 , 0.6675749 ,\n",
       "         0.6939024 , 0.67744243, 0.72749305, 0.68369246, 0.7295617 ,\n",
       "         0.68436414, 0.66367006, 0.71160674, 0.6714454 , 0.6678858 ],\n",
       "        [0.63160604, 0.65207464, 0.69020206, 0.6521516 , 0.6680751 ,\n",
       "         0.6934483 , 0.6775043 , 0.72763216, 0.68387264, 0.729915  ,\n",
       "         0.6853919 , 0.6647053 , 0.71308714, 0.67271304, 0.66776717],\n",
       "        [0.63240933, 0.65316135, 0.6902579 , 0.65335137, 0.66810334,\n",
       "         0.6928928 , 0.6775396 , 0.72756386, 0.68389845, 0.72975117,\n",
       "         0.6861061 , 0.665245  , 0.7149432 , 0.6740325 , 0.6678184 ],\n",
       "        [0.6332546 , 0.653532  , 0.6900681 , 0.65440464, 0.66838837,\n",
       "         0.69217014, 0.6772145 , 0.7269566 , 0.68338704, 0.72870845,\n",
       "         0.6859479 , 0.66478086, 0.716599  , 0.67498016, 0.66788614],\n",
       "        [0.6327631 , 0.65242445, 0.6898366 , 0.65411574, 0.66855526,\n",
       "         0.69119495, 0.67609215, 0.7249563 , 0.6819947 , 0.7259675 ,\n",
       "         0.6844771 , 0.6624312 , 0.71662635, 0.6748999 , 0.6675798 ],\n",
       "        [0.6404656 , 0.6524287 , 0.6906667 , 0.6580816 , 0.6694772 ,\n",
       "         0.7035533 , 0.6684203 , 0.701314  , 0.66994464, 0.70183235,\n",
       "         0.670707  , 0.65542054, 0.7027581 , 0.66714394, 0.6936353 ]],\n",
       "       dtype=float32)}"
      ]
     },
     "execution_count": 10,
     "metadata": {},
     "output_type": "execute_result"
    }
   ],
   "source": [
    "alignment_dict"
   ]
  },
  {
   "cell_type": "code",
   "execution_count": 54,
   "metadata": {},
   "outputs": [
    {
     "data": {
      "text/plain": [
       "(37, 15)"
      ]
     },
     "execution_count": 54,
     "metadata": {},
     "output_type": "execute_result"
    }
   ],
   "source": [
    "alignment_dict[\"similarity_matrix\"].shape"
   ]
  },
  {
   "cell_type": "code",
   "execution_count": 55,
   "metadata": {},
   "outputs": [],
   "source": [
    "n,m=alignment_dict[\"similarity_matrix\"].shape\n",
    "alignment_matrix = reconstruct_alignment_matrix(alignment_dict[\"alignments\"][\"inter\"],n,m)\n",
    "alignment_scores = alignment_dict[\"similarity_matrix\"]*alignment_matrix"
   ]
  },
  {
   "cell_type": "code",
   "execution_count": 56,
   "metadata": {},
   "outputs": [
    {
     "data": {
      "text/plain": [
       "array([[0., 0., 0., 0., 0., 0., 0., 0., 0., 0., 0., 0., 0., 0., 0.],\n",
       "       [0., 0., 0., 0., 0., 0., 0., 0., 0., 0., 0., 0., 0., 0., 0.],\n",
       "       [0., 0., 0., 0., 0., 0., 0., 0., 0., 0., 0., 0., 0., 0., 0.],\n",
       "       [0., 0., 0., 0., 0., 0., 0., 0., 0., 0., 0., 0., 0., 0., 0.],\n",
       "       [0., 0., 0., 0., 0., 0., 0., 0., 0., 0., 0., 0., 0., 0., 0.],\n",
       "       [0., 0., 0., 0., 0., 0., 0., 0., 0., 0., 0., 0., 0., 0., 0.],\n",
       "       [0., 0., 0., 0., 0., 0., 0., 0., 0., 1., 0., 0., 0., 0., 0.],\n",
       "       [0., 0., 0., 0., 0., 0., 0., 0., 0., 0., 0., 0., 0., 0., 0.],\n",
       "       [0., 0., 0., 0., 0., 0., 0., 0., 0., 0., 0., 0., 0., 0., 0.],\n",
       "       [0., 0., 0., 0., 0., 0., 0., 0., 0., 0., 0., 0., 0., 0., 0.],\n",
       "       [0., 0., 0., 0., 0., 0., 0., 0., 0., 0., 0., 0., 0., 0., 0.],\n",
       "       [0., 0., 0., 0., 0., 0., 0., 0., 0., 0., 0., 0., 0., 0., 0.],\n",
       "       [0., 0., 0., 0., 0., 0., 0., 0., 0., 0., 0., 0., 0., 0., 0.],\n",
       "       [0., 0., 0., 0., 0., 0., 0., 0., 0., 0., 0., 0., 0., 0., 0.],\n",
       "       [0., 0., 0., 0., 0., 0., 0., 0., 0., 0., 0., 0., 0., 0., 0.],\n",
       "       [0., 0., 0., 0., 0., 0., 0., 0., 0., 0., 0., 0., 0., 0., 0.],\n",
       "       [0., 0., 0., 0., 0., 0., 0., 0., 0., 0., 0., 0., 0., 0., 0.],\n",
       "       [0., 0., 0., 0., 0., 0., 0., 0., 0., 0., 0., 0., 0., 0., 0.],\n",
       "       [0., 0., 0., 0., 0., 0., 0., 0., 0., 0., 0., 0., 0., 0., 0.],\n",
       "       [0., 0., 0., 0., 0., 0., 0., 0., 0., 0., 0., 0., 0., 0., 0.],\n",
       "       [0., 0., 0., 0., 0., 0., 0., 0., 0., 0., 0., 0., 0., 0., 0.],\n",
       "       [0., 0., 0., 0., 0., 0., 0., 0., 0., 0., 0., 0., 0., 0., 0.],\n",
       "       [0., 0., 0., 0., 0., 0., 0., 0., 0., 0., 0., 0., 0., 0., 0.],\n",
       "       [0., 0., 0., 0., 0., 0., 0., 0., 0., 0., 0., 0., 0., 0., 0.],\n",
       "       [0., 0., 0., 0., 0., 0., 0., 0., 0., 0., 0., 0., 0., 0., 0.],\n",
       "       [0., 0., 0., 0., 0., 0., 0., 0., 0., 0., 0., 0., 0., 0., 0.],\n",
       "       [0., 0., 0., 0., 0., 0., 0., 0., 0., 0., 0., 0., 0., 0., 0.],\n",
       "       [0., 0., 0., 0., 0., 0., 0., 0., 0., 0., 0., 0., 0., 0., 0.],\n",
       "       [0., 0., 0., 0., 0., 0., 0., 0., 0., 0., 0., 0., 0., 0., 0.],\n",
       "       [0., 0., 0., 0., 0., 0., 0., 0., 0., 0., 0., 0., 0., 0., 0.],\n",
       "       [0., 0., 0., 0., 0., 0., 0., 0., 0., 0., 0., 0., 0., 0., 0.],\n",
       "       [0., 0., 0., 0., 0., 0., 0., 0., 0., 0., 0., 0., 0., 0., 0.],\n",
       "       [0., 0., 0., 0., 0., 0., 0., 0., 0., 0., 0., 0., 0., 0., 0.],\n",
       "       [0., 0., 0., 0., 0., 0., 0., 0., 0., 0., 0., 0., 0., 0., 0.],\n",
       "       [0., 0., 0., 0., 0., 0., 0., 0., 0., 0., 0., 0., 0., 0., 0.],\n",
       "       [0., 0., 0., 0., 0., 0., 0., 0., 0., 0., 0., 0., 0., 0., 0.],\n",
       "       [0., 0., 0., 0., 0., 0., 0., 0., 0., 0., 0., 0., 0., 0., 1.]])"
      ]
     },
     "execution_count": 56,
     "metadata": {},
     "output_type": "execute_result"
    }
   ],
   "source": [
    "alignment_matrix"
   ]
  },
  {
   "cell_type": "code",
   "execution_count": 57,
   "metadata": {},
   "outputs": [
    {
     "data": {
      "text/plain": [
       "array([[0.        , 0.        , 0.        , 0.        , 0.        ,\n",
       "        0.        , 0.        , 0.        , 0.        , 0.        ,\n",
       "        0.        , 0.        , 0.        , 0.        , 0.        ],\n",
       "       [0.        , 0.        , 0.        , 0.        , 0.        ,\n",
       "        0.        , 0.        , 0.        , 0.        , 0.        ,\n",
       "        0.        , 0.        , 0.        , 0.        , 0.        ],\n",
       "       [0.        , 0.        , 0.        , 0.        , 0.        ,\n",
       "        0.        , 0.        , 0.        , 0.        , 0.        ,\n",
       "        0.        , 0.        , 0.        , 0.        , 0.        ],\n",
       "       [0.        , 0.        , 0.        , 0.        , 0.        ,\n",
       "        0.        , 0.        , 0.        , 0.        , 0.        ,\n",
       "        0.        , 0.        , 0.        , 0.        , 0.        ],\n",
       "       [0.        , 0.        , 0.        , 0.        , 0.        ,\n",
       "        0.        , 0.        , 0.        , 0.        , 0.        ,\n",
       "        0.        , 0.        , 0.        , 0.        , 0.        ],\n",
       "       [0.        , 0.        , 0.        , 0.        , 0.        ,\n",
       "        0.        , 0.        , 0.        , 0.        , 0.        ,\n",
       "        0.        , 0.        , 0.        , 0.        , 0.        ],\n",
       "       [0.        , 0.        , 0.        , 0.        , 0.        ,\n",
       "        0.        , 0.        , 0.        , 0.        , 0.81723225,\n",
       "        0.        , 0.        , 0.        , 0.        , 0.        ],\n",
       "       [0.        , 0.        , 0.        , 0.        , 0.        ,\n",
       "        0.        , 0.        , 0.        , 0.        , 0.        ,\n",
       "        0.        , 0.        , 0.        , 0.        , 0.        ],\n",
       "       [0.        , 0.        , 0.        , 0.        , 0.        ,\n",
       "        0.        , 0.        , 0.        , 0.        , 0.        ,\n",
       "        0.        , 0.        , 0.        , 0.        , 0.        ],\n",
       "       [0.        , 0.        , 0.        , 0.        , 0.        ,\n",
       "        0.        , 0.        , 0.        , 0.        , 0.        ,\n",
       "        0.        , 0.        , 0.        , 0.        , 0.        ],\n",
       "       [0.        , 0.        , 0.        , 0.        , 0.        ,\n",
       "        0.        , 0.        , 0.        , 0.        , 0.        ,\n",
       "        0.        , 0.        , 0.        , 0.        , 0.        ],\n",
       "       [0.        , 0.        , 0.        , 0.        , 0.        ,\n",
       "        0.        , 0.        , 0.        , 0.        , 0.        ,\n",
       "        0.        , 0.        , 0.        , 0.        , 0.        ],\n",
       "       [0.        , 0.        , 0.        , 0.        , 0.        ,\n",
       "        0.        , 0.        , 0.        , 0.        , 0.        ,\n",
       "        0.        , 0.        , 0.        , 0.        , 0.        ],\n",
       "       [0.        , 0.        , 0.        , 0.        , 0.        ,\n",
       "        0.        , 0.        , 0.        , 0.        , 0.        ,\n",
       "        0.        , 0.        , 0.        , 0.        , 0.        ],\n",
       "       [0.        , 0.        , 0.        , 0.        , 0.        ,\n",
       "        0.        , 0.        , 0.        , 0.        , 0.        ,\n",
       "        0.        , 0.        , 0.        , 0.        , 0.        ],\n",
       "       [0.        , 0.        , 0.        , 0.        , 0.        ,\n",
       "        0.        , 0.        , 0.        , 0.        , 0.        ,\n",
       "        0.        , 0.        , 0.        , 0.        , 0.        ],\n",
       "       [0.        , 0.        , 0.        , 0.        , 0.        ,\n",
       "        0.        , 0.        , 0.        , 0.        , 0.        ,\n",
       "        0.        , 0.        , 0.        , 0.        , 0.        ],\n",
       "       [0.        , 0.        , 0.        , 0.        , 0.        ,\n",
       "        0.        , 0.        , 0.        , 0.        , 0.        ,\n",
       "        0.        , 0.        , 0.        , 0.        , 0.        ],\n",
       "       [0.        , 0.        , 0.        , 0.        , 0.        ,\n",
       "        0.        , 0.        , 0.        , 0.        , 0.        ,\n",
       "        0.        , 0.        , 0.        , 0.        , 0.        ],\n",
       "       [0.        , 0.        , 0.        , 0.        , 0.        ,\n",
       "        0.        , 0.        , 0.        , 0.        , 0.        ,\n",
       "        0.        , 0.        , 0.        , 0.        , 0.        ],\n",
       "       [0.        , 0.        , 0.        , 0.        , 0.        ,\n",
       "        0.        , 0.        , 0.        , 0.        , 0.        ,\n",
       "        0.        , 0.        , 0.        , 0.        , 0.        ],\n",
       "       [0.        , 0.        , 0.        , 0.        , 0.        ,\n",
       "        0.        , 0.        , 0.        , 0.        , 0.        ,\n",
       "        0.        , 0.        , 0.        , 0.        , 0.        ],\n",
       "       [0.        , 0.        , 0.        , 0.        , 0.        ,\n",
       "        0.        , 0.        , 0.        , 0.        , 0.        ,\n",
       "        0.        , 0.        , 0.        , 0.        , 0.        ],\n",
       "       [0.        , 0.        , 0.        , 0.        , 0.        ,\n",
       "        0.        , 0.        , 0.        , 0.        , 0.        ,\n",
       "        0.        , 0.        , 0.        , 0.        , 0.        ],\n",
       "       [0.        , 0.        , 0.        , 0.        , 0.        ,\n",
       "        0.        , 0.        , 0.        , 0.        , 0.        ,\n",
       "        0.        , 0.        , 0.        , 0.        , 0.        ],\n",
       "       [0.        , 0.        , 0.        , 0.        , 0.        ,\n",
       "        0.        , 0.        , 0.        , 0.        , 0.        ,\n",
       "        0.        , 0.        , 0.        , 0.        , 0.        ],\n",
       "       [0.        , 0.        , 0.        , 0.        , 0.        ,\n",
       "        0.        , 0.        , 0.        , 0.        , 0.        ,\n",
       "        0.        , 0.        , 0.        , 0.        , 0.        ],\n",
       "       [0.        , 0.        , 0.        , 0.        , 0.        ,\n",
       "        0.        , 0.        , 0.        , 0.        , 0.        ,\n",
       "        0.        , 0.        , 0.        , 0.        , 0.        ],\n",
       "       [0.        , 0.        , 0.        , 0.        , 0.        ,\n",
       "        0.        , 0.        , 0.        , 0.        , 0.        ,\n",
       "        0.        , 0.        , 0.        , 0.        , 0.        ],\n",
       "       [0.        , 0.        , 0.        , 0.        , 0.        ,\n",
       "        0.        , 0.        , 0.        , 0.        , 0.        ,\n",
       "        0.        , 0.        , 0.        , 0.        , 0.        ],\n",
       "       [0.        , 0.        , 0.        , 0.        , 0.        ,\n",
       "        0.        , 0.        , 0.        , 0.        , 0.        ,\n",
       "        0.        , 0.        , 0.        , 0.        , 0.        ],\n",
       "       [0.        , 0.        , 0.        , 0.        , 0.        ,\n",
       "        0.        , 0.        , 0.        , 0.        , 0.        ,\n",
       "        0.        , 0.        , 0.        , 0.        , 0.        ],\n",
       "       [0.        , 0.        , 0.        , 0.        , 0.        ,\n",
       "        0.        , 0.        , 0.        , 0.        , 0.        ,\n",
       "        0.        , 0.        , 0.        , 0.        , 0.        ],\n",
       "       [0.        , 0.        , 0.        , 0.        , 0.        ,\n",
       "        0.        , 0.        , 0.        , 0.        , 0.        ,\n",
       "        0.        , 0.        , 0.        , 0.        , 0.        ],\n",
       "       [0.        , 0.        , 0.        , 0.        , 0.        ,\n",
       "        0.        , 0.        , 0.        , 0.        , 0.        ,\n",
       "        0.        , 0.        , 0.        , 0.        , 0.        ],\n",
       "       [0.        , 0.        , 0.        , 0.        , 0.        ,\n",
       "        0.        , 0.        , 0.        , 0.        , 0.        ,\n",
       "        0.        , 0.        , 0.        , 0.        , 0.        ],\n",
       "       [0.        , 0.        , 0.        , 0.        , 0.        ,\n",
       "        0.        , 0.        , 0.        , 0.        , 0.        ,\n",
       "        0.        , 0.        , 0.        , 0.        , 0.87100923]])"
      ]
     },
     "execution_count": 57,
     "metadata": {},
     "output_type": "execute_result"
    }
   ],
   "source": [
    "alignment_scores"
   ]
  },
  {
   "cell_type": "code",
   "execution_count": 58,
   "metadata": {},
   "outputs": [
    {
     "data": {
      "text/plain": [
       "array([0.76631784, 0.7336641 , 0.75985754, 0.72677809, 0.71257454,\n",
       "       0.75589621, 0.75527006, 0.80278468, 0.75795823, 0.81723225,\n",
       "       0.76679623, 0.76473534, 0.77462155, 0.78129834, 0.87100923])"
      ]
     },
     "execution_count": 58,
     "metadata": {},
     "output_type": "execute_result"
    }
   ],
   "source": [
    "np.divide(alignment_scores.sum(0),alignment_scores.astype(bool).sum(0),where=alignment_scores.astype(bool).sum(0).astype(bool))"
   ]
  },
  {
   "cell_type": "code",
   "execution_count": 59,
   "metadata": {},
   "outputs": [
    {
     "data": {
      "text/plain": [
       "array([0.        , 0.        , 0.        , 0.        , 0.        ,\n",
       "       0.        , 0.        , 0.        , 0.        , 0.81723225,\n",
       "       0.        , 0.        , 0.        , 0.        , 0.87100923])"
      ]
     },
     "execution_count": 59,
     "metadata": {},
     "output_type": "execute_result"
    }
   ],
   "source": [
    "alignment_scores.sum(0)"
   ]
  },
  {
   "cell_type": "code",
   "execution_count": 60,
   "metadata": {},
   "outputs": [
    {
     "data": {
      "text/plain": [
       "array([0, 0, 0, 0, 0, 0, 0, 0, 0, 1, 0, 0, 0, 0, 1])"
      ]
     },
     "execution_count": 60,
     "metadata": {},
     "output_type": "execute_result"
    }
   ],
   "source": [
    "alignment_scores.astype(bool).sum(0)"
   ]
  },
  {
   "cell_type": "code",
   "execution_count": 61,
   "metadata": {},
   "outputs": [
    {
     "data": {
      "text/plain": [
       "array([False, False, False, False, False, False, False, False, False,\n",
       "        True, False, False, False, False,  True])"
      ]
     },
     "execution_count": 61,
     "metadata": {},
     "output_type": "execute_result"
    }
   ],
   "source": [
    "alignment_scores.astype(bool).sum(0).astype(bool)"
   ]
  },
  {
   "cell_type": "code",
   "execution_count": 62,
   "metadata": {},
   "outputs": [
    {
     "data": {
      "text/plain": [
       "array([       nan,        nan,        nan,        nan,        nan,\n",
       "              nan,        nan,        nan,        nan, 0.81723225,\n",
       "              nan,        nan,        nan,        nan, 0.87100923])"
      ]
     },
     "execution_count": 62,
     "metadata": {},
     "output_type": "execute_result"
    }
   ],
   "source": [
    "alignment_scores.sum(0)/alignment_scores.astype(bool).sum(0)"
   ]
  },
  {
   "cell_type": "code",
   "execution_count": 63,
   "metadata": {},
   "outputs": [
    {
     "data": {
      "text/plain": [
       "array([0.        , 0.        , 0.        , 0.        , 0.        ,\n",
       "       0.        , 0.        , 0.        , 0.        , 0.81723225,\n",
       "       0.        , 0.        , 0.        , 0.        , 0.87100923])"
      ]
     },
     "execution_count": 63,
     "metadata": {},
     "output_type": "execute_result"
    }
   ],
   "source": [
    "np.divide(alignment_scores.sum(0),alignment_scores.astype(bool).sum(0),where=alignment_scores.astype(bool).sum(0).astype(bool))"
   ]
  },
  {
   "cell_type": "code",
   "execution_count": null,
   "metadata": {},
   "outputs": [],
   "source": []
  }
 ],
 "metadata": {
  "kernelspec": {
   "display_name": "run_shap_env_kernel",
   "language": "python",
   "name": "run_shap_env"
  },
  "language_info": {
   "codemirror_mode": {
    "name": "ipython",
    "version": 3
   },
   "file_extension": ".py",
   "mimetype": "text/x-python",
   "name": "python",
   "nbconvert_exporter": "python",
   "pygments_lexer": "ipython3",
   "version": "3.8.5"
  }
 },
 "nbformat": 4,
 "nbformat_minor": 2
}
