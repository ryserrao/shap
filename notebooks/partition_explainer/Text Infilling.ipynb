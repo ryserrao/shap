{
 "cells": [
  {
   "cell_type": "code",
   "execution_count": 1,
   "metadata": {},
   "outputs": [],
   "source": [
    "import os\n",
    "import copy\n",
    "import shutil\n",
    "import pandas as pd\n",
    "import numpy as np\n",
    "import matplotlib.pyplot as plt\n",
    "import matplotlib as mlp\n",
    "import seaborn as sns\n",
    "%matplotlib inline\n",
    "from transformers import AutoTokenizer, AutoModelWithLMHead\n",
    "import shap\n",
    "from shap.utils import GenerateLogits\n",
    "import scipy as sp\n",
    "import nlp\n",
    "import torch\n",
    "import spacy\n",
    "from shap.utils import assert_import, record_import_error, safe_isinstance, make_masks, OpChain, MaskedModel\n",
    "from shap import maskers, links"
   ]
  },
  {
   "cell_type": "code",
   "execution_count": 2,
   "metadata": {},
   "outputs": [],
   "source": [
    "MODEL_DIR = r'C:\\Users\\ryserrao\\Microsoft_work\\AIPLATFORM_SHAP\\ilm_pretrained_model'"
   ]
  },
  {
   "cell_type": "code",
   "execution_count": 3,
   "metadata": {},
   "outputs": [
    {
     "name": "stdout",
     "output_type": "stream",
     "text": [
      "{'<|startofinfill|>': 50257, '<|endofinfill|>': 50258, '<|infill_document|>': 50259, '<|infill_paragraph|>': 50260, '<|infill_sentence|>': 50261, '<|infill_ngram|>': 50262, '<|infill_word|>': 50263}\n"
     ]
    }
   ],
   "source": [
    "import os\n",
    "import pickle\n",
    "\n",
    "import ilm.tokenize_util\n",
    "\n",
    "tokenizer = ilm.tokenize_util.Tokenizer.GPT2\n",
    "with open(os.path.join(MODEL_DIR, 'additional_ids_to_tokens.pkl'), 'rb') as f:\n",
    "    additional_ids_to_tokens = pickle.load(f)\n",
    "additional_tokens_to_ids = {v:k for k, v in additional_ids_to_tokens.items()}\n",
    "try:\n",
    "    ilm.tokenize_util.update_tokenizer(additional_ids_to_tokens, tokenizer)\n",
    "except ValueError:\n",
    "    print('Already updated')\n",
    "print(additional_tokens_to_ids)"
   ]
  },
  {
   "cell_type": "code",
   "execution_count": 4,
   "metadata": {},
   "outputs": [],
   "source": [
    "import torch\n",
    "from transformers import GPT2LMHeadModel\n",
    "\n",
    "device = 'cpu'\n",
    "model = GPT2LMHeadModel.from_pretrained(MODEL_DIR).cuda()\n",
    "_=model.eval()"
   ]
  },
  {
   "cell_type": "code",
   "execution_count": 39,
   "metadata": {},
   "outputs": [],
   "source": [
    "from ilm.infer import infill_with_ilm\n",
    "def infill(sentence,infill_types):\n",
    "    context_ids = ilm.tokenize_util.encode(context, tokenizer)\n",
    "    _blank_id = ilm.tokenize_util.encode(' _', tokenizer)[0]\n",
    "    for infill_type in infill_types:\n",
    "        context_ids[context_ids.index(_blank_id)] = additional_tokens_to_ids[infill_type]\n",
    "    generated = infill_with_ilm(\n",
    "    model,\n",
    "    additional_tokens_to_ids,\n",
    "    context_ids,\n",
    "    num_infills=3)\n",
    "    for g in generated:\n",
    "        print(ilm.tokenize_util.decode(g, tokenizer))\n",
    "        print('-' * 80)"
   ]
  },
  {
   "cell_type": "code",
   "execution_count": 40,
   "metadata": {},
   "outputs": [],
   "source": [
    "def infill_experiment(sentence,infill_exp_types):\n",
    "    for infill_exp_type in infill_exp_types:\n",
    "        print(f'Experimenting with infilling type: {infill_exp_type}')\n",
    "        infill(sentence,[infill_exp_type])"
   ]
  },
  {
   "cell_type": "code",
   "execution_count": 47,
   "metadata": {},
   "outputs": [],
   "source": [
    "context = \"\"\"\n",
    "The problem is affecting people using the older versions of the PlayStation 3, called the \"Fat\" model.The problem isn't affecting the newer PS3 Slim systems that have been on sale since September last year. _ some users to avoid using their console for the time being.\"We hope to resolve this problem within the next 24 hours,\" a statement reads. \"In the meantime, if you have a model other than the new slim PS3, we advise that you do not use your PS3 system, as doing so may result in errors in some functionality, such as recording obtained trophies, and not being able to restore certain data.\"We believe we have identified that this problem is being caused by a bug in the clock functionality incorporated in the system.\"The PlayStation Network is used by millions of people around the world.It allows users to play their friends at games like Fifa over the internet and also do things like download software or visit online stores.\n",
    "\"\"\".strip()\n",
    "infill_types=['<|infill_word|>','<|infill_ngram|>','<|infill_sentence|>','<|infill_paragraph|>']"
   ]
  },
  {
   "cell_type": "code",
   "execution_count": 48,
   "metadata": {
    "scrolled": false
   },
   "outputs": [
    {
     "name": "stdout",
     "output_type": "stream",
     "text": [
      "Experimenting with infilling type: <|infill_word|>\n",
      "The problem is affecting people using the older versions of the PlayStation 3, called the \"Fat\" model.The problem isn't affecting the newer PS3 Slim systems that have been on sale since September last year. Do some users to avoid using their console for the time being.\"We hope to resolve this problem within the next 24 hours,\" a statement reads. \"In the meantime, if you have a model other than the new slim PS3, we advise that you do not use your PS3 system, as doing so may result in errors in some functionality, such as recording obtained trophies, and not being able to restore certain data.\"We believe we have identified that this problem is being caused by a bug in the clock functionality incorporated in the system.\"The PlayStation Network is used by millions of people around the world.It allows users to play their friends at games like Fifa over the internet and also do things like download software or visit online stores.\n",
      "--------------------------------------------------------------------------------\n",
      "The problem is affecting people using the older versions of the PlayStation 3, called the \"Fat\" model.The problem isn't affecting the newer PS3 Slim systems that have been on sale since September last year. We some users to avoid using their console for the time being.\"We hope to resolve this problem within the next 24 hours,\" a statement reads. \"In the meantime, if you have a model other than the new slim PS3, we advise that you do not use your PS3 system, as doing so may result in errors in some functionality, such as recording obtained trophies, and not being able to restore certain data.\"We believe we have identified that this problem is being caused by a bug in the clock functionality incorporated in the system.\"The PlayStation Network is used by millions of people around the world.It allows users to play their friends at games like Fifa over the internet and also do things like download software or visit online stores.\n",
      "--------------------------------------------------------------------------------\n",
      "The problem is affecting people using the older versions of the PlayStation 3, called the \"Fat\" model.The problem isn't affecting the newer PS3 Slim systems that have been on sale since September last year. Users some users to avoid using their console for the time being.\"We hope to resolve this problem within the next 24 hours,\" a statement reads. \"In the meantime, if you have a model other than the new slim PS3, we advise that you do not use your PS3 system, as doing so may result in errors in some functionality, such as recording obtained trophies, and not being able to restore certain data.\"We believe we have identified that this problem is being caused by a bug in the clock functionality incorporated in the system.\"The PlayStation Network is used by millions of people around the world.It allows users to play their friends at games like Fifa over the internet and also do things like download software or visit online stores.\n",
      "--------------------------------------------------------------------------------\n",
      "Experimenting with infilling type: <|infill_ngram|>\n",
      "The problem is affecting people using the older versions of the PlayStation 3, called the \"Fat\" model.The problem isn't affecting the newer PS3 Slim systems that have been on sale since September last year. We send some users to avoid using their console for the time being.\"We hope to resolve this problem within the next 24 hours,\" a statement reads. \"In the meantime, if you have a model other than the new slim PS3, we advise that you do not use your PS3 system, as doing so may result in errors in some functionality, such as recording obtained trophies, and not being able to restore certain data.\"We believe we have identified that this problem is being caused by a bug in the clock functionality incorporated in the system.\"The PlayStation Network is used by millions of people around the world.It allows users to play their friends at games like Fifa over the internet and also do things like download software or visit online stores.\n",
      "--------------------------------------------------------------------------------\n",
      "The problem is affecting people using the older versions of the PlayStation 3, called the \"Fat\" model.The problem isn't affecting the newer PS3 Slim systems that have been on sale since September last year. We make an effort to include some users to avoid using their console for the time being.\"We hope to resolve this problem within the next 24 hours,\" a statement reads. \"In the meantime, if you have a model other than the new slim PS3, we advise that you do not use your PS3 system, as doing so may result in errors in some functionality, such as recording obtained trophies, and not being able to restore certain data.\"We believe we have identified that this problem is being caused by a bug in the clock functionality incorporated in the system.\"The PlayStation Network is used by millions of people around the world.It allows users to play their friends at games like Fifa over the internet and also do things like download software or visit online stores.\n",
      "--------------------------------------------------------------------------------\n",
      "The problem is affecting people using the older versions of the PlayStation 3, called the \"Fat\" model.The problem isn't affecting the newer PS3 Slim systems that have been on sale since September last year. When we take orders and upload some users to avoid using their console for the time being.\"We hope to resolve this problem within the next 24 hours,\" a statement reads. \"In the meantime, if you have a model other than the new slim PS3, we advise that you do not use your PS3 system, as doing so may result in errors in some functionality, such as recording obtained trophies, and not being able to restore certain data.\"We believe we have identified that this problem is being caused by a bug in the clock functionality incorporated in the system.\"The PlayStation Network is used by millions of people around the world.It allows users to play their friends at games like Fifa over the internet and also do things like download software or visit online stores.\n",
      "--------------------------------------------------------------------------------\n",
      "Experimenting with infilling type: <|infill_sentence|>\n",
      "The problem is affecting people using the older versions of the PlayStation 3, called the \"Fat\" model.The problem isn't affecting the newer PS3 Slim systems that have been on sale since September last year. Matthew KotBoy or Swiss,. some users to avoid using their console for the time being.\"We hope to resolve this problem within the next 24 hours,\" a statement reads. \"In the meantime, if you have a model other than the new slim PS3, we advise that you do not use your PS3 system, as doing so may result in errors in some functionality, such as recording obtained trophies, and not being able to restore certain data.\"We believe we have identified that this problem is being caused by a bug in the clock functionality incorporated in the system.\"The PlayStation Network is used by millions of people around the world.It allows users to play their friends at games like Fifa over the internet and also do things like download software or visit online stores.\n",
      "--------------------------------------------------------------------------------\n",
      "The problem is affecting people using the older versions of the PlayStation 3, called the \"Fat\" model.The problem isn't affecting the newer PS3 Slim systems that have been on sale since September last year. Anyone with certain websites to avoid trouble some users to avoid using their console for the time being.\"We hope to resolve this problem within the next 24 hours,\" a statement reads. \"In the meantime, if you have a model other than the new slim PS3, we advise that you do not use your PS3 system, as doing so may result in errors in some functionality, such as recording obtained trophies, and not being able to restore certain data.\"We believe we have identified that this problem is being caused by a bug in the clock functionality incorporated in the system.\"The PlayStation Network is used by millions of people around the world.It allows users to play their friends at games like Fifa over the internet and also do things like download software or visit online stores.\n",
      "--------------------------------------------------------------------------------\n",
      "The problem is affecting people using the older versions of the PlayStation 3, called the \"Fat\" model.The problem isn't affecting the newer PS3 Slim systems that have been on sale since September last year. There are apparently due to a new distros some users to avoid using their console for the time being.\"We hope to resolve this problem within the next 24 hours,\" a statement reads. \"In the meantime, if you have a model other than the new slim PS3, we advise that you do not use your PS3 system, as doing so may result in errors in some functionality, such as recording obtained trophies, and not being able to restore certain data.\"We believe we have identified that this problem is being caused by a bug in the clock functionality incorporated in the system.\"The PlayStation Network is used by millions of people around the world.It allows users to play their friends at games like Fifa over the internet and also do things like download software or visit online stores.\n",
      "--------------------------------------------------------------------------------\n",
      "Experimenting with infilling type: <|infill_paragraph|>\n"
     ]
    },
    {
     "name": "stdout",
     "output_type": "stream",
     "text": [
      "The problem is affecting people using the older versions of the PlayStation 3, called the \"Fat\" model.The problem isn't affecting the newer PS3 Slim systems that have been on sale since September last year. Most some users to avoid using their console for the time being.\"We hope to resolve this problem within the next 24 hours,\" a statement reads. \"In the meantime, if you have a model other than the new slim PS3, we advise that you do not use your PS3 system, as doing so may result in errors in some functionality, such as recording obtained trophies, and not being able to restore certain data.\"We believe we have identified that this problem is being caused by a bug in the clock functionality incorporated in the system.\"The PlayStation Network is used by millions of people around the world.It allows users to play their friends at games like Fifa over the internet and also do things like download software or visit online stores.\n",
      "--------------------------------------------------------------------------------\n",
      "The problem is affecting people using the older versions of the PlayStation 3, called the \"Fat\" model.The problem isn't affecting the newer PS3 Slim systems that have been on sale since September last year. I worked some users to avoid using their console for the time being.\"We hope to resolve this problem within the next 24 hours,\" a statement reads. \"In the meantime, if you have a model other than the new slim PS3, we advise that you do not use your PS3 system, as doing so may result in errors in some functionality, such as recording obtained trophies, and not being able to restore certain data.\"We believe we have identified that this problem is being caused by a bug in the clock functionality incorporated in the system.\"The PlayStation Network is used by millions of people around the world.It allows users to play their friends at games like Fifa over the internet and also do things like download software or visit online stores.\n",
      "--------------------------------------------------------------------------------\n",
      "The problem is affecting people using the older versions of the PlayStation 3, called the \"Fat\" model.The problem isn't affecting the newer PS3 Slim systems that have been on sale since September last year.Our examples include suggestions that some users to avoid using their console for the time being.\"We hope to resolve this problem within the next 24 hours,\" a statement reads. \"In the meantime, if you have a model other than the new slim PS3, we advise that you do not use your PS3 system, as doing so may result in errors in some functionality, such as recording obtained trophies, and not being able to restore certain data.\"We believe we have identified that this problem is being caused by a bug in the clock functionality incorporated in the system.\"The PlayStation Network is used by millions of people around the world.It allows users to play their friends at games like Fifa over the internet and also do things like download software or visit online stores.\n",
      "--------------------------------------------------------------------------------\n"
     ]
    }
   ],
   "source": [
    "infill_experiment(context,infill_types)"
   ]
  },
  {
   "cell_type": "code",
   "execution_count": 22,
   "metadata": {},
   "outputs": [
    {
     "name": "stdout",
     "output_type": "stream",
     "text": [
      "The problem is affecting people using the older versions of the PlayStation 3, called the \"Fat\" model.The problem isn't affecting the newer PS3 Slim systems that have been on sale since September last year.<|infill_sentence|><|infill_sentence|><|infill_sentence|>. \"In the meantime, if you have a model other than the new slim PS3, we advise that you do not use your PS3 system, as doing so may result in errors in some functionality, such as recording obtained trophies, and not being able to restore certain data.\"We believe we have identified that this problem is being caused by a bug in the clock functionality incorporated in the system.\"The PlayStation Network is used by millions of people around the world.It allows users to play their friends at games like Fifa over the internet and also do things like download software or visit online stores.\n"
     ]
    }
   ],
   "source": [
    "context = \"\"\"\n",
    "The problem is affecting people using the older versions of the PlayStation 3, called the \"Fat\" model.The problem isn't \n",
    "affecting the newer PS3 Slim systems that have been on sale since September last year. _ _ _. \"In the meantime, if you have a model other than the new slim PS3, we advise that you do not use your PS3 system, as doing so may result in errors in some functionality, such as recording obtained trophies, and not being able to restore certain data.\"We believe we have identified that this problem is being caused by a bug in the clock functionality incorporated in the system.\"The PlayStation Network is used by millions of people around the world.It allows users to play their friends at games like Fifa over the internet and also do things like download software or visit online stores.\n",
    "\"\"\".strip()\n",
    "\n",
    "context_ids = ilm.tokenize_util.encode(context, tokenizer)\n",
    "\n",
    "# Replace blanks with appropriate tokens from left to right\n",
    "_blank_id = ilm.tokenize_util.encode(' _', tokenizer)[0]\n",
    "#context_ids[context_ids.index(_blank_id)] = additional_tokens_to_ids['<|infill_word|>']\n",
    "#context_ids[context_ids.index(_blank_id)] = additional_tokens_to_ids['<|infill_ngram|>']\n",
    "#context_ids[context_ids.index(_blank_id)] = additional_tokens_to_ids['<|infill_paragraph|>']\n",
    "#context_ids[context_ids.index(_blank_id)] = additional_tokens_to_ids['<|infill_sentence|>']\n",
    "context_ids[context_ids.index(_blank_id)] = additional_tokens_to_ids['<|infill_sentence|>']\n",
    "context_ids[context_ids.index(_blank_id)] = additional_tokens_to_ids['<|infill_sentence|>']\n",
    "context_ids[context_ids.index(_blank_id)] = additional_tokens_to_ids['<|infill_sentence|>']\n",
    "print(ilm.tokenize_util.decode(context_ids, tokenizer))"
   ]
  },
  {
   "cell_type": "code",
   "execution_count": 23,
   "metadata": {},
   "outputs": [
    {
     "name": "stdout",
     "output_type": "stream",
     "text": [
      "--------------------------------------------------------------------------------\n",
      "The problem is affecting people using the older versions of the PlayStation 3, called the \"Fat\" model.The problem isn't affecting the newer PS3 Slim systems that have been on sale since September last year. If you play games you get injured you may experience abdominal cramps or can have to recover. The Playstation account you note your progress by setting performance as it. Hopefully if you lose track with the hack your input data until the next month.. \"In the meantime, if you have a model other than the new slim PS3, we advise that you do not use your PS3 system, as doing so may result in errors in some functionality, such as recording obtained trophies, and not being able to restore certain data.\"We believe we have identified that this problem is being caused by a bug in the clock functionality incorporated in the system.\"The PlayStation Network is used by millions of people around the world.It allows users to play their friends at games like Fifa over the internet and also do things like download software or visit online stores.\n",
      "--------------------------------------------------------------------------------\n",
      "The problem is affecting people using the older versions of the PlayStation 3, called the \"Fat\" model.The problem isn't affecting the newer PS3 Slim systems that have been on sale since September last year. It doesn't seem to work since many Sony makes judgements. This issue with this system is I wish it had not been here to the old PlayStation 3 \"so we made general functionality\" to download. It still remains i requested a change our accounts, as Sony only allow people to play certain games.. \"In the meantime, if you have a model other than the new slim PS3, we advise that you do not use your PS3 system, as doing so may result in errors in some functionality, such as recording obtained trophies, and not being able to restore certain data.\"We believe we have identified that this problem is being caused by a bug in the clock functionality incorporated in the system.\"The PlayStation Network is used by millions of people around the world.It allows users to play their friends at games like Fifa over the internet and also do things like download software or visit online stores.\n"
     ]
    }
   ],
   "source": [
    "\n",
    "\n",
    "generated = infill_with_ilm(\n",
    "    model,\n",
    "    additional_tokens_to_ids,\n",
    "    context_ids,\n",
    "    num_infills=2)\n",
    "for g in generated:\n",
    "    print('-' * 80)\n",
    "    print(ilm.tokenize_util.decode(g, tokenizer))"
   ]
  },
  {
   "cell_type": "code",
   "execution_count": null,
   "metadata": {},
   "outputs": [],
   "source": []
  }
 ],
 "metadata": {
  "kernelspec": {
   "display_name": "run_shap_env_kernel",
   "language": "python",
   "name": "run_shap_env"
  },
  "language_info": {
   "codemirror_mode": {
    "name": "ipython",
    "version": 3
   },
   "file_extension": ".py",
   "mimetype": "text/x-python",
   "name": "python",
   "nbconvert_exporter": "python",
   "pygments_lexer": "ipython3",
   "version": "3.8.5"
  }
 },
 "nbformat": 4,
 "nbformat_minor": 2
}
