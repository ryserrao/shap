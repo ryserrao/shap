{
 "cells": [
  {
   "cell_type": "code",
   "execution_count": 48,
   "metadata": {},
   "outputs": [
    {
     "ename": "ModuleNotFoundError",
     "evalue": "No module named 'transformers.examples'",
     "output_type": "error",
     "traceback": [
      "\u001b[1;31m---------------------------------------------------------------------------\u001b[0m",
      "\u001b[1;31mModuleNotFoundError\u001b[0m                       Traceback (most recent call last)",
      "\u001b[1;32m<ipython-input-48-a23af9829e36>\u001b[0m in \u001b[0;36m<module>\u001b[1;34m\u001b[0m\n\u001b[0;32m     15\u001b[0m \u001b[0mpd\u001b[0m\u001b[1;33m.\u001b[0m\u001b[0mset_option\u001b[0m\u001b[1;33m(\u001b[0m\u001b[1;34m\"max_rows\"\u001b[0m\u001b[1;33m,\u001b[0m \u001b[1;32mNone\u001b[0m\u001b[1;33m)\u001b[0m\u001b[1;33m\u001b[0m\u001b[1;33m\u001b[0m\u001b[0m\n\u001b[0;32m     16\u001b[0m \u001b[1;32mfrom\u001b[0m \u001b[0mshap\u001b[0m\u001b[1;33m.\u001b[0m\u001b[0mutils\u001b[0m \u001b[1;32mimport\u001b[0m \u001b[0msafe_isinstance\u001b[0m\u001b[1;33m\u001b[0m\u001b[1;33m\u001b[0m\u001b[0m\n\u001b[1;32m---> 17\u001b[1;33m \u001b[1;32mfrom\u001b[0m \u001b[0mtransformers\u001b[0m\u001b[1;33m.\u001b[0m\u001b[0mexamples\u001b[0m\u001b[1;33m.\u001b[0m\u001b[0mseq2seq\u001b[0m\u001b[1;33m.\u001b[0m\u001b[0mutils\u001b[0m \u001b[1;32mimport\u001b[0m \u001b[0muse_task_specific_params\u001b[0m\u001b[1;33m\u001b[0m\u001b[1;33m\u001b[0m\u001b[0m\n\u001b[0m",
      "\u001b[1;31mModuleNotFoundError\u001b[0m: No module named 'transformers.examples'"
     ]
    }
   ],
   "source": [
    "\n",
    "import os\n",
    "import copy\n",
    "import shutil\n",
    "import pandas as pd\n",
    "import numpy as np\n",
    "import matplotlib.pyplot as plt\n",
    "%matplotlib inline\n",
    "from transformers import AutoTokenizer, AutoModelWithLMHead, AutoModelForSeq2SeqLM\n",
    "import shap\n",
    "import scipy as sp\n",
    "import nlp\n",
    "import torch\n",
    "pd.set_option('display.max_columns', None)\n",
    "pd.set_option('max_colwidth', None)\n",
    "pd.set_option(\"max_rows\", None)\n",
    "from shap.utils import safe_isinstance"
   ]
  },
  {
   "cell_type": "code",
   "execution_count": 45,
   "metadata": {
    "tags": []
   },
   "outputs": [],
   "source": [
    "tokenizer = AutoTokenizer.from_pretrained(\"sshleifer/distilbart-cnn-12-6\")\n",
    "\n",
    "model =  AutoModelForSeq2SeqLM.from_pretrained(\"sshleifer/distilbart-cnn-12-6\").cuda()"
   ]
  },
  {
   "cell_type": "code",
   "execution_count": 8,
   "metadata": {},
   "outputs": [
    {
     "data": {
      "application/vnd.jupyter.widget-view+json": {
       "model_id": "de54679a44a2447b97437752f0994ba5",
       "version_major": 2,
       "version_minor": 0
      },
      "text/plain": [
       "HBox(children=(FloatProgress(value=0.0, description='Downloading', max=3447.0, style=ProgressStyle(description…"
      ]
     },
     "metadata": {},
     "output_type": "display_data"
    },
    {
     "name": "stdout",
     "output_type": "stream",
     "text": [
      "\n"
     ]
    },
    {
     "name": "stderr",
     "output_type": "stream",
     "text": [
      "WARNING - Using custom data configuration default\n"
     ]
    },
    {
     "name": "stdout",
     "output_type": "stream",
     "text": [
      "Downloading and preparing dataset xsum/default (download: Unknown size, generated: Unknown size, post-processed: Unknown sizetotal: Unknown size) to C:\\Users\\ryserrao\\.cache\\huggingface\\datasets\\xsum\\default\\1.1.0\\0140182f1073b990fc0b6e7159a845ef3eaeff2fe8c155bd96cc31236ddf5fb3...\n"
     ]
    },
    {
     "data": {
      "application/vnd.jupyter.widget-view+json": {
       "model_id": "092852b760de479198d0f50678f3711d",
       "version_major": 2,
       "version_minor": 0
      },
      "text/plain": [
       "HBox(children=(FloatProgress(value=0.0, description='Downloading', max=204844092.0, style=ProgressStyle(descri…"
      ]
     },
     "metadata": {},
     "output_type": "display_data"
    },
    {
     "name": "stdout",
     "output_type": "stream",
     "text": [
      "\n"
     ]
    },
    {
     "data": {
      "application/vnd.jupyter.widget-view+json": {
       "model_id": "",
       "version_major": 2,
       "version_minor": 0
      },
      "text/plain": [
       "HBox(children=(FloatProgress(value=1.0, bar_style='info', max=1.0), HTML(value='')))"
      ]
     },
     "metadata": {},
     "output_type": "display_data"
    },
    {
     "data": {
      "application/vnd.jupyter.widget-view+json": {
       "model_id": "",
       "version_major": 2,
       "version_minor": 0
      },
      "text/plain": [
       "HBox(children=(FloatProgress(value=1.0, bar_style='info', max=1.0), HTML(value='')))"
      ]
     },
     "metadata": {},
     "output_type": "display_data"
    },
    {
     "data": {
      "application/vnd.jupyter.widget-view+json": {
       "model_id": "",
       "version_major": 2,
       "version_minor": 0
      },
      "text/plain": [
       "HBox(children=(FloatProgress(value=1.0, bar_style='info', max=1.0), HTML(value='')))"
      ]
     },
     "metadata": {},
     "output_type": "display_data"
    },
    {
     "name": "stdout",
     "output_type": "stream",
     "text": [
      "Dataset xsum downloaded and prepared to C:\\Users\\ryserrao\\.cache\\huggingface\\datasets\\xsum\\default\\1.1.0\\0140182f1073b990fc0b6e7159a845ef3eaeff2fe8c155bd96cc31236ddf5fb3. Subsequent calls will reuse this data.\n"
     ]
    }
   ],
   "source": [
    "dataset = nlp.load_dataset('xsum',split='train')"
   ]
  },
  {
   "cell_type": "code",
   "execution_count": 20,
   "metadata": {},
   "outputs": [],
   "source": [
    "ARTICLE_TO_SUMMARIZE=dataset['document'][0].split(' ')"
   ]
  },
  {
   "cell_type": "code",
   "execution_count": 12,
   "metadata": {},
   "outputs": [
    {
     "data": {
      "text/plain": [
       "'Sony has told owners of older models of its PlayStation 3 console to stop using the machine because of a problem with the PlayStation Network.\\n'"
      ]
     },
     "execution_count": 12,
     "metadata": {},
     "output_type": "execute_result"
    }
   ],
   "source": [
    "dataset['summary'][0]"
   ]
  },
  {
   "cell_type": "code",
   "execution_count": 19,
   "metadata": {},
   "outputs": [
    {
     "data": {
      "text/plain": [
       "208"
      ]
     },
     "execution_count": 19,
     "metadata": {},
     "output_type": "execute_result"
    }
   ],
   "source": [
    "len(tokenizer.encode('The problem is greatly affecting people using the older versions of the PlayStation 3, called the \"Fat\" model.The problem isn\\'t affecting the newer PS3 Slim systems that have been on sale since September last year.Sony have also said they are aiming to have the problem fixed shortly but is advising some users to avoid using their console for the time being.\"We hope to resolve this problem within the next 24 hours,\" a statement reads. \"In the meantime, if you have a model other than the new slim PS3, we advise that you do not use your PS3 system, as doing so may result in errors in some functionality, such as recording obtained trophies, and not being able to restore certain data.\"We believe we have identified that this problem is being caused by a bug in the clock functionality incorporated in the system.\"The PlayStation Network is used by millions of people around the world.It allows users to play their friends at games like Fifa over the internet and also do things like download software or visit online stores.\\n'))"
   ]
  },
  {
   "cell_type": "code",
   "execution_count": 63,
   "metadata": {},
   "outputs": [],
   "source": [
    "inputs = torch.tensor(tokenizer.encode(ARTICLE_TO_SUMMARIZE, max_length=1024,truncation=True,padding=\"longest\")).cuda()"
   ]
  },
  {
   "cell_type": "code",
   "execution_count": 64,
   "metadata": {},
   "outputs": [
    {
     "data": {
      "text/plain": [
       "tensor([    0,   133, 41045,   354,     3, 11970, 10928,   627, 33780, 44784,\n",
       "         1116,   627,     3,     3,  4155,   627,     3,     3, 41045,     3,\n",
       "            3,   627,     3,     3,     3,     3,  6025, 11990, 35507,   261,\n",
       "        25248, 30117, 16913, 13751,     3, 11990, 19726, 28613, 10010,  1322,\n",
       "            3,   560, 11990,   627, 41045, 43713,     3,  4297,   354,     3,\n",
       "        12465, 31964,   560, 40623, 10928, 25017, 48028,  1990,   627,   958,\n",
       "            3,     3,   560,     3,  9226, 41045, 34451,   627, 25616,  1978,\n",
       "            3,   102, 29963,     3,     3,   627,     3,  1594,  6968, 11990,\n",
       "          102, 21818,  7443,  5652,   627,  4651,     3,     3,  1694,     3,\n",
       "         6025,  6968,  5016,  3654,  3698, 16625,     3,     3,   281, 30012,\n",
       "         2527, 12488, 43155,   179, 48487,   179, 12465,     3, 16918,   281,\n",
       "            3,     3,     3,   463,  3654,  9442,   868,   560,     3, 31097,\n",
       "            3,     3,  1694, 11990, 23788,  6025,  9226, 41045,   354,  9442,\n",
       "            3,  1409,   102, 37148,   179,   627, 17036,     3,     3,   179,\n",
       "          627,     3,     3, 40283,   354,  6199,  1409,     3,  1116, 11970,\n",
       "        13837,   627,     3, 37984, 31964,   560,  5785, 25017, 33601,   415,\n",
       "        34732,  3341,     3,  2137,   627, 42182,   463, 19726,  5016, 34331,\n",
       "         3341, 41536, 41038,   368,     3, 20412,     3,     2],\n",
       "       device='cuda:0')"
      ]
     },
     "execution_count": 64,
     "metadata": {},
     "output_type": "execute_result"
    }
   ],
   "source": [
    "inputs"
   ]
  },
  {
   "cell_type": "code",
   "execution_count": 65,
   "metadata": {},
   "outputs": [
    {
     "data": {
      "text/plain": [
       "'<mask>'"
      ]
     },
     "execution_count": 65,
     "metadata": {},
     "output_type": "execute_result"
    }
   ],
   "source": [
    "tokenizer.mask_token"
   ]
  },
  {
   "cell_type": "code",
   "execution_count": 67,
   "metadata": {},
   "outputs": [
    {
     "ename": "AssertionError",
     "evalue": "Input prompt should be of shape (batch_size, sequence length).",
     "output_type": "error",
     "traceback": [
      "\u001b[1;31m---------------------------------------------------------------------------\u001b[0m",
      "\u001b[1;31mAssertionError\u001b[0m                            Traceback (most recent call last)",
      "\u001b[1;32m<ipython-input-67-caa346f4a8ed>\u001b[0m in \u001b[0;36m<module>\u001b[1;34m\u001b[0m\n\u001b[1;32m----> 1\u001b[1;33m \u001b[0msummary_ids\u001b[0m \u001b[1;33m=\u001b[0m \u001b[0mmodel\u001b[0m\u001b[1;33m.\u001b[0m\u001b[0mgenerate\u001b[0m\u001b[1;33m(\u001b[0m\u001b[0minputs\u001b[0m\u001b[1;33m,\u001b[0m\u001b[0mnum_beams\u001b[0m\u001b[1;33m=\u001b[0m\u001b[1;36m4\u001b[0m\u001b[1;33m,\u001b[0m \u001b[0mmax_length\u001b[0m\u001b[1;33m=\u001b[0m\u001b[1;36m10\u001b[0m\u001b[1;33m,\u001b[0m \u001b[0mearly_stopping\u001b[0m\u001b[1;33m=\u001b[0m\u001b[1;32mTrue\u001b[0m\u001b[1;33m)\u001b[0m\u001b[1;33m\u001b[0m\u001b[1;33m\u001b[0m\u001b[0m\n\u001b[0m",
      "\u001b[1;32m~\\miniconda3\\envs\\run_shap\\lib\\site-packages\\torch\\autograd\\grad_mode.py\u001b[0m in \u001b[0;36mdecorate_context\u001b[1;34m(*args, **kwargs)\u001b[0m\n\u001b[0;32m     13\u001b[0m         \u001b[1;32mdef\u001b[0m \u001b[0mdecorate_context\u001b[0m\u001b[1;33m(\u001b[0m\u001b[1;33m*\u001b[0m\u001b[0margs\u001b[0m\u001b[1;33m,\u001b[0m \u001b[1;33m**\u001b[0m\u001b[0mkwargs\u001b[0m\u001b[1;33m)\u001b[0m\u001b[1;33m:\u001b[0m\u001b[1;33m\u001b[0m\u001b[1;33m\u001b[0m\u001b[0m\n\u001b[0;32m     14\u001b[0m             \u001b[1;32mwith\u001b[0m \u001b[0mself\u001b[0m\u001b[1;33m:\u001b[0m\u001b[1;33m\u001b[0m\u001b[1;33m\u001b[0m\u001b[0m\n\u001b[1;32m---> 15\u001b[1;33m                 \u001b[1;32mreturn\u001b[0m \u001b[0mfunc\u001b[0m\u001b[1;33m(\u001b[0m\u001b[1;33m*\u001b[0m\u001b[0margs\u001b[0m\u001b[1;33m,\u001b[0m \u001b[1;33m**\u001b[0m\u001b[0mkwargs\u001b[0m\u001b[1;33m)\u001b[0m\u001b[1;33m\u001b[0m\u001b[1;33m\u001b[0m\u001b[0m\n\u001b[0m\u001b[0;32m     16\u001b[0m         \u001b[1;32mreturn\u001b[0m \u001b[0mdecorate_context\u001b[0m\u001b[1;33m\u001b[0m\u001b[1;33m\u001b[0m\u001b[0m\n\u001b[0;32m     17\u001b[0m \u001b[1;33m\u001b[0m\u001b[0m\n",
      "\u001b[1;32m~\\miniconda3\\envs\\run_shap\\lib\\site-packages\\transformers\\generation_utils.py\u001b[0m in \u001b[0;36mgenerate\u001b[1;34m(self, input_ids, max_length, min_length, do_sample, early_stopping, num_beams, temperature, top_k, top_p, repetition_penalty, bad_words_ids, bos_token_id, pad_token_id, eos_token_id, length_penalty, no_repeat_ngram_size, num_return_sequences, attention_mask, decoder_start_token_id, use_cache, **model_specific_kwargs)\u001b[0m\n\u001b[0;32m    321\u001b[0m             )\n\u001b[0;32m    322\u001b[0m         \u001b[1;32melse\u001b[0m\u001b[1;33m:\u001b[0m\u001b[1;33m\u001b[0m\u001b[1;33m\u001b[0m\u001b[0m\n\u001b[1;32m--> 323\u001b[1;33m             \u001b[1;32massert\u001b[0m \u001b[0minput_ids\u001b[0m\u001b[1;33m.\u001b[0m\u001b[0mdim\u001b[0m\u001b[1;33m(\u001b[0m\u001b[1;33m)\u001b[0m \u001b[1;33m==\u001b[0m \u001b[1;36m2\u001b[0m\u001b[1;33m,\u001b[0m \u001b[1;34m\"Input prompt should be of shape (batch_size, sequence length).\"\u001b[0m\u001b[1;33m\u001b[0m\u001b[1;33m\u001b[0m\u001b[0m\n\u001b[0m\u001b[0;32m    324\u001b[0m \u001b[1;33m\u001b[0m\u001b[0m\n\u001b[0;32m    325\u001b[0m         \u001b[1;31m# not allow to duplicate outputs when greedy decoding\u001b[0m\u001b[1;33m\u001b[0m\u001b[1;33m\u001b[0m\u001b[1;33m\u001b[0m\u001b[0m\n",
      "\u001b[1;31mAssertionError\u001b[0m: Input prompt should be of shape (batch_size, sequence length)."
     ]
    }
   ],
   "source": [
    "summary_ids = model.generate(inputs,num_beams=4, max_length=10, early_stopping=True)"
   ]
  },
  {
   "cell_type": "code",
   "execution_count": 49,
   "metadata": {},
   "outputs": [
    {
     "data": {
      "text/plain": [
       "{'summarization': {'early_stopping': True,\n",
       "  'length_penalty': 2.0,\n",
       "  'max_length': 142,\n",
       "  'min_length': 56,\n",
       "  'no_repeat_ngram_size': 3,\n",
       "  'num_beams': 4}}"
      ]
     },
     "execution_count": 49,
     "metadata": {},
     "output_type": "execute_result"
    }
   ],
   "source": [
    "model.config.task_specific_params"
   ]
  },
  {
   "cell_type": "code",
   "execution_count": 51,
   "metadata": {},
   "outputs": [],
   "source": [
    "prefix=None\n",
    "prefix = prefix or getattr(model.config, \"prefix\", \"\") or \"\""
   ]
  },
  {
   "cell_type": "code",
   "execution_count": 52,
   "metadata": {},
   "outputs": [
    {
     "data": {
      "text/plain": [
       "' '"
      ]
     },
     "execution_count": 52,
     "metadata": {},
     "output_type": "execute_result"
    }
   ],
   "source": [
    "prefix"
   ]
  },
  {
   "cell_type": "code",
   "execution_count": 43,
   "metadata": {},
   "outputs": [
    {
     "name": "stdout",
     "output_type": "stream",
     "text": [
      "[' CNN.com will feature iRep', ' Problem is a big problem in the', ' CNN.com will feature iRep', 'affecting.affects', ' People are famous for their work in', 'using .using Facebook to create a', ' The U.S. House of', ' Older than 50 years older, older', \"versions of the world's most popular\", \" Of course. of the world's\", ' The U.S. House of', ' PlayStation is a PlayStation 3 game', ' 3.3,3.3', 'called.called .called . Called', ' The U.S. House of', ' \"Fat\" is the name of', \" The model of the world's most\", ' Problem is a big problem in the', ' CNN.com will feature iRep', 'affecting.affects', ' The U.S. House of', 'newer videos have been released in', ' PS3 will be available in the', \" Slimlim is the world's\", 'systems.systems .system', 'that.that .that is a', ' Have you ever had a problem?', 'been.been .been . Been', 'on.on . CNN.com', 'sale.sale . Sale . Sale', ' Since then, there has been a', ' September 1: September 2: September', \" Last week's events in Washington were\", ' Sony announced a new partnership with Sony', ' Have you ever had a problem?', ' CNN.com will feature iRep', 'said.said .said . Said', \" They are the world's most famous\", 'areare.are.com .', 'aiming.aiming .aim', ' CNN.com will feature iRep', ' Have you ever had a problem?', ' The U.S. House of', ' Problem is a big problem in the', 'fixed fixed fixed fixed . Fixed fixed', 'shortlyly.shortly.', 'but .but . but . but', ' CNN.com will feature iRep', ' Advising.advisingadvising', \"some of the world's most famous\", \" Users are users of the world's\", ' CNN.com will feature iRep', 'avoidavoidavoid.avoid . Avoid', 'using .using Facebook to create a', ' Their story will be featured on CNN', \"console console console console is called '\", ' For the first time ever, the', ' The U.S. House of', ' Time.time.time . Time', ' Being.being.being.\"We', 'hope.hope . Hope', ' CNN.com will feature iRep', 'resolveresolve.resolve', ' This is a weekly feature on CNN', ' Problem is a big problem in the', 'within within the U.S.', ' The U.S. House of', ' CNN.com will feature iRep', ' 24.24.24 is the', 'hours.hours.\"hours\" Hours', 'a.a.i.a', 'statement.statement .statement . Statement', ' Reads. reads.reads.', ' \"In \"In\" \"In', ' The U.S. House of', \"meantime, the world's\", 'if you have any knowledge of the', 'you.you .you are a', ' Have you ever had a problem?', 'a.a.i.a', 'model .model . model . model', ' CNN.com will feature iRep', 'than than a decade ago.than', ' The U.S. House of', ' New York City is one of the', 'slimslim.slim', 'PS3, PS3, and', ' We.we.we . We', 'advise.advise . Adv', 'that.that .that is a', 'you.you .you are a', ' Do you know a celebrity celebrity?', 'not.not .not . not', 'use.use .use . Use', ' CNN.com will feature iRep', ' PS3 will be available in the', ' System.system, system.system', ' AS.asasas.as', 'doing.doing .doing . Doing', ' So.so.so .so', 'may have been involved in a car', 'resultresult.result .result.', ' Inventor.in.com', 'errors.errors . Errors.errors', ' Inventor.in.com', \"some of the world's most famous\", 'functionality, functionality, and', 'such such a large group of people', ' AS.asasas.as', 'recording.recording .rec', 'obtained.obtained . The', 'trophies, trophies', 'andand.and .and .', 'not.not .not . not', 'being.being .being . Being', 'ableable.able .able .', ' CNN.com will feature iRep', 'restore.restore .rest', 'certain certain things are certain about certain', ' Data.data.\"We.data', ' Believe.believe . Bel', ' We.we.we . We', ' Have you ever had a problem?', 'identified .identified . identified .identified', 'that.that .that is a', ' This is a weekly feature on CNN', ' Problem is a big problem in the', ' CNN.com will feature iRep', 'being.being .being . Being', 'caused.caused .ca', 'by John Sutter.by .', 'a.a.i.a', 'bugbug is a bug that bugs', ' Inventor.in.com', ' The U.S. House of', 'clock clock turns to clock clock .', 'functionality.functionality .function', 'incorporated.incorporated .inc', ' Inventor.in.com', ' The U.S. House of', ' The \"system\" is called \"', ' PlayStation is a PlayStation 3 game', ' Network.Network . Network . Network', ' CNN.com will feature iRep', 'used to be used in the U', 'by John Sutter.by .', 'millions of dollars have been invested', \" Of course. of the world's\", ' People are famous for their work in', \" Around the world: World's best\", ' The U.S. House of', ' World.world.com is a', 'allowsallows children to grow up in', \" Users are users of the world's\", ' CNN.com will feature iRep', ' Play.play.play . Play', ' Their story will be featured on CNN', ' Friends are friends with friends and family', ' CNN.com will feature iRep', ' Games.games.com is a', ' CNN.com will feature iRep', ' FIFA is the governing body of the', 'overover.over .over .', ' The U.S. House of', 'internet.internet .internet . Internet', 'andand.and .and .', ' CNN.com will feature iRep', ' Do you know a celebrity celebrity?', 'things you need to know about life', ' CNN.com will feature iRep', 'download: http://www.download', 'softwaresoftware.software .software .', ' Orlando, Florida, USA,', 'visit the U.S.', ' Online.online.com is a', ' Stores.stores.com will be']\n"
     ]
    }
   ],
   "source": [
    "print([tokenizer.decode(g, skip_special_tokens=True, clean_up_tokenization_spaces=False) for g in summary_ids])"
   ]
  },
  {
   "cell_type": "code",
   "execution_count": 41,
   "metadata": {},
   "outputs": [
    {
     "data": {
      "text/plain": [
       "'The problem is affecting people using the older versions of the PlayStation 3, called the \"Fat\" model.The problem isn\\'t affecting the newer PS3 Slim systems that have been on sale since September last year.Sony have also said they are aiming to have the problem fixed shortly but is advising some users to avoid using their console for the time being.\"We hope to resolve this problem within the next 24 hours,\" a statement reads. \"In the meantime, if you have a model other than the new slim PS3, we advise that you do not use your PS3 system, as doing so may result in errors in some functionality, such as recording obtained trophies, and not being able to restore certain data.\"We believe we have identified that this problem is being caused by a bug in the clock functionality incorporated in the system.\"The PlayStation Network is used by millions of people around the world.It allows users to play their friends at games like Fifa over the internet and also do things like download software or visit online stores.\\n'"
      ]
     },
     "execution_count": 41,
     "metadata": {},
     "output_type": "execute_result"
    }
   ],
   "source": [
    "dataset['document'][0]"
   ]
  },
  {
   "cell_type": "code",
   "execution_count": null,
   "metadata": {},
   "outputs": [],
   "source": []
  }
 ],
 "metadata": {
  "kernelspec": {
   "display_name": "run_shap_env_kernel",
   "language": "python",
   "name": "run_shap_env"
  },
  "language_info": {
   "codemirror_mode": {
    "name": "ipython",
    "version": 3
   },
   "file_extension": ".py",
   "mimetype": "text/x-python",
   "name": "python",
   "nbconvert_exporter": "python",
   "pygments_lexer": "ipython3",
   "version": "3.8.5"
  }
 },
 "nbformat": 4,
 "nbformat_minor": 2
}
