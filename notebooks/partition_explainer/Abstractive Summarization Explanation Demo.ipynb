{
 "cells": [
  {
   "cell_type": "code",
   "execution_count": 1,
   "metadata": {},
   "outputs": [],
   "source": [
    "import os\n",
    "import copy\n",
    "import shutil\n",
    "import pandas as pd\n",
    "import numpy as np\n",
    "import matplotlib.pyplot as plt\n",
    "%matplotlib inline\n",
    "from transformers import AutoTokenizer, AutoModelWithLMHead\n",
    "import shap\n",
    "from shap.utils import GenerateLogits\n",
    "import scipy as sp\n",
    "import nlp\n",
    "import torch"
   ]
  },
  {
   "cell_type": "code",
   "execution_count": 2,
   "metadata": {},
   "outputs": [],
   "source": [
    "tokenizer = AutoTokenizer.from_pretrained(\"sshleifer/distilbart-xsum-12-6\")\n",
    "model =  AutoModelWithLMHead.from_pretrained(\"sshleifer/distilbart-xsum-12-6\").cuda()"
   ]
  },
  {
   "cell_type": "code",
   "execution_count": 3,
   "metadata": {},
   "outputs": [
    {
     "name": "stderr",
     "output_type": "stream",
     "text": [
      "Using custom data configuration default\n"
     ]
    }
   ],
   "source": [
    "dataset = nlp.load_dataset('xsum',split='train')"
   ]
  },
  {
   "cell_type": "markdown",
   "metadata": {},
   "source": [
    "### Explanation using model decoder to generate logits scores"
   ]
  },
  {
   "cell_type": "code",
   "execution_count": 4,
   "metadata": {},
   "outputs": [],
   "source": [
    "# Instantiate object of GenerateLogits with model and tokenizer\n",
    "logit_generator_model = GenerateLogits(model=model,tokenizer=tokenizer)"
   ]
  },
  {
   "cell_type": "code",
   "execution_count": 5,
   "metadata": {},
   "outputs": [],
   "source": [
    "def gen_kwargs(x):\n",
    "    model.eval()\n",
    "    input_ids = torch.tensor([tokenizer.encode(x)]).cuda()\n",
    "    with torch.no_grad():\n",
    "        # generate input ids for output translation which we aim to explain\n",
    "        out=model.generate(input_ids)\n",
    "    # slice sentence by removing bos and eos token ids\n",
    "    target_sentence_ids = out[:,1:-1].cuda()\n",
    "    output_names = logit_generator_model.get_output_names(target_sentence_ids)\n",
    "    del out, input_ids\n",
    "    return {'target_sentence_ids':target_sentence_ids,'output_names':output_names}"
   ]
  },
  {
   "cell_type": "code",
   "execution_count": 6,
   "metadata": {},
   "outputs": [],
   "source": [
    "# This function defines the additional arguments passed onto the model function required inorder to get conditional logits corresponding to the original input sentence translation\n",
    "def f_kwargs(x):\n",
    "    kwargs = gen_kwargs(x)\n",
    "    return kwargs"
   ]
  },
  {
   "cell_type": "code",
   "execution_count": 7,
   "metadata": {},
   "outputs": [],
   "source": [
    "def f(x_batch,**kwargs):\n",
    "    output_batch=[]\n",
    "    # Extract target sentence for which we want to generate conditional logits\n",
    "    target_sentence_ids=kwargs['target_sentence_ids']\n",
    "    for i,source_sentence in enumerate(x_batch):\n",
    "        conditional_logits = logit_generator_model.generate_logits(source_sentence,target_sentence_ids)\n",
    "        output_batch.append(conditional_logits)\n",
    "    return np.array(output_batch)"
   ]
  },
  {
   "cell_type": "code",
   "execution_count": 8,
   "metadata": {},
   "outputs": [],
   "source": [
    "explainer = shap.Explainer(f,tokenizer)\n",
    "explainer.masker.mask_token_id=None\n",
    "explainer.masker.mask_token=\"\""
   ]
  },
  {
   "cell_type": "code",
   "execution_count": 9,
   "metadata": {},
   "outputs": [
    {
     "name": "stderr",
     "output_type": "stream",
     "text": []
    }
   ],
   "source": [
    "shap_values = explainer(dataset['document'][0:1],model_kwargs=f_kwargs)"
   ]
  },
  {
   "cell_type": "markdown",
   "metadata": {},
   "source": [
    "#### Visualize explanation using text plot"
   ]
  },
  {
   "cell_type": "code",
   "execution_count": null,
   "metadata": {},
   "outputs": [],
   "source": [
    "shap.plots.text(shap_values[0])"
   ]
  },
  {
   "cell_type": "markdown",
   "metadata": {},
   "source": [
    "### Explanation by approximating logit scores using a language model (distilgpt2)"
   ]
  },
  {
   "cell_type": "code",
   "execution_count": 10,
   "metadata": {},
   "outputs": [],
   "source": [
    "lm_tokenizer = AutoTokenizer.from_pretrained(\"distilgpt2\")\n",
    "lm_model =  AutoModelWithLMHead.from_pretrained(\"distilgpt2\")"
   ]
  },
  {
   "cell_type": "code",
   "execution_count": 11,
   "metadata": {},
   "outputs": [],
   "source": [
    "logit_generator_model_lm = GenerateLogits(model=lm_model,tokenizer=lm_tokenizer,device='cpu')"
   ]
  },
  {
   "cell_type": "code",
   "execution_count": 12,
   "metadata": {},
   "outputs": [],
   "source": [
    "# return model prediction\n",
    "def f_lm_predict(x):\n",
    "    model.eval()\n",
    "    input_ids = torch.tensor([tokenizer.encode(x)]).cuda()\n",
    "    with torch.no_grad():\n",
    "        out=model.generate(input_ids)\n",
    "    sentence = [tokenizer.decode(g, skip_special_tokens=True) for g in out][0]\n",
    "    del input_ids, out\n",
    "    return sentence"
   ]
  },
  {
   "cell_type": "code",
   "execution_count": 13,
   "metadata": {},
   "outputs": [],
   "source": [
    "def gen_kwargs_lm(x):\n",
    "    target_sentence = f_lm_predict(x)\n",
    "    output_names = logit_generator_model_lm.get_output_names(target_sentence)\n",
    "    return {'target_sentence':target_sentence,'output_names':output_names}"
   ]
  },
  {
   "cell_type": "code",
   "execution_count": 14,
   "metadata": {},
   "outputs": [],
   "source": [
    "def f_kwargs_lm(x):\n",
    "    kwargs = gen_kwargs_lm(x)\n",
    "    return kwargs"
   ]
  },
  {
   "cell_type": "code",
   "execution_count": 15,
   "metadata": {},
   "outputs": [],
   "source": [
    "def f_lm(x_batch,**kwargs):\n",
    "    output_batch=[]\n",
    "    # Extract target sentence for which we want to generate conditional logits\n",
    "    target_sentence=kwargs['target_sentence']\n",
    "    for i,x in enumerate(x_batch):\n",
    "        source_sentence = f_lm_predict(x)\n",
    "        conditional_logits = logit_generator_model_lm.generate_logits(source_sentence,target_sentence)\n",
    "        output_batch.append(conditional_logits)\n",
    "    return np.array(output_batch)"
   ]
  },
  {
   "cell_type": "code",
   "execution_count": 16,
   "metadata": {},
   "outputs": [],
   "source": [
    "explainer_lm = shap.Explainer(f_lm,tokenizer)\n",
    "explainer_lm.masker.mask_token_id=None\n",
    "explainer_lm.masker.mask_token=\"\""
   ]
  },
  {
   "cell_type": "code",
   "execution_count": 17,
   "metadata": {},
   "outputs": [
    {
     "name": "stderr",
     "output_type": "stream",
     "text": [
      "Partition explainer: 2it [01:03, 31.67s/it]               \n"
     ]
    }
   ],
   "source": [
    "shap_values_lm = explainer_lm(dataset['document'][0:1],model_kwargs=f_kwargs_lm)"
   ]
  },
  {
   "cell_type": "markdown",
   "metadata": {},
   "source": [
    "#### Visualize explanation using text plot"
   ]
  },
  {
   "cell_type": "code",
   "execution_count": null,
   "metadata": {},
   "outputs": [],
   "source": [
    "shap.plots.text(shap_values_lm[0])"
   ]
  },
  {
   "cell_type": "code",
   "execution_count": null,
   "metadata": {},
   "outputs": [],
   "source": [
    "class TeacherForcingLogits(Model):\n",
    "    def __init__(self, model, tokenizer, generation_function = None, text_similarity_model = None, text_similarity_tokenizer = None):"
   ]
  }
 ],
 "metadata": {
  "kernelspec": {
   "display_name": "run_shap_env_kernel",
   "language": "python",
   "name": "run_shap_env"
  },
  "language_info": {
   "codemirror_mode": {
    "name": "ipython",
    "version": 3
   },
   "file_extension": ".py",
   "mimetype": "text/x-python",
   "name": "python",
   "nbconvert_exporter": "python",
   "pygments_lexer": "ipython3",
   "version": "3.8.5"
  }
 },
 "nbformat": 4,
 "nbformat_minor": 2
}
