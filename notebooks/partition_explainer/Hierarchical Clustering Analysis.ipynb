{
 "metadata": {
  "language_info": {
   "codemirror_mode": {
    "name": "ipython",
    "version": 3
   },
   "file_extension": ".py",
   "mimetype": "text/x-python",
   "name": "python",
   "nbconvert_exporter": "python",
   "pygments_lexer": "ipython3",
   "version": "3.8.5-final"
  },
  "orig_nbformat": 2,
  "kernelspec": {
   "name": "run_shap_env",
   "display_name": "run_shap_env_kernel"
  }
 },
 "nbformat": 4,
 "nbformat_minor": 2,
 "cells": [
  {
   "cell_type": "code",
   "execution_count": 1,
   "metadata": {},
   "outputs": [],
   "source": [
    "import os\n",
    "import copy\n",
    "import shutil\n",
    "import pandas as pd\n",
    "import numpy as np\n",
    "import matplotlib.pyplot as plt\n",
    "import matplotlib as mlp\n",
    "import seaborn as sns\n",
    "%matplotlib inline\n",
    "from transformers import AutoTokenizer, AutoModelWithLMHead\n",
    "import shap\n",
    "from shap.utils import GenerateLogits\n",
    "import scipy as sp\n",
    "import nlp\n",
    "import torch\n",
    "import spacy\n",
    "from shap.utils import assert_import, record_import_error, safe_isinstance, make_masks, OpChain, MaskedModel\n",
    "from shap import maskers, links"
   ]
  },
  {
   "cell_type": "code",
   "execution_count": null,
   "metadata": {},
   "outputs": [],
   "source": []
  }
 ]
}